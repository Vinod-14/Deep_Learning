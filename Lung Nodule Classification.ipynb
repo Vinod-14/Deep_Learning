{
 "cells": [
  {
   "cell_type": "code",
   "execution_count": 1,
   "id": "06dace35",
   "metadata": {},
   "outputs": [],
   "source": [
    "import tensorflow as tf\n",
    "from tensorflow.keras.models import Model\n",
    "from tensorflow.keras.layers import Input, Conv2D, MaxPooling2D, Dropout, UpSampling2D, Concatenate"
   ]
  },
  {
   "cell_type": "code",
   "execution_count": 1,
   "id": "a32a6144",
   "metadata": {},
   "outputs": [
    {
     "name": "stdout",
     "output_type": "stream",
     "text": [
      "Input Shape: (512, 512, 3)\n"
     ]
    }
   ],
   "source": [
    "import os\n",
    "import cv2\n",
    "\n",
    "# Set the path to your dataset folders\n",
    "malignant_folder = r\"C:\\Users\\lenovo\\OneDrive\\Documents\\Lungs\\Malignant cases\"\n",
    "benign_folder = r\"C:\\Users\\lenovo\\OneDrive\\Documents\\Lungs\\Bengin cases\"\n",
    "normal_folder = r\"C:\\Users\\lenovo\\OneDrive\\Documents\\Lungs\\Normal cases\"\n",
    "\n",
    "# Get a sample image path from each class\n",
    "malignant_sample = os.path.join(malignant_folder, os.listdir(malignant_folder)[0])\n",
    "benign_sample = os.path.join(benign_folder, os.listdir(benign_folder)[0])\n",
    "normal_sample = os.path.join(normal_folder, os.listdir(normal_folder)[0])\n",
    "\n",
    "# Load a sample image\n",
    "sample_image = cv2.imread(malignant_sample)\n",
    "\n",
    "# Get the image shape\n",
    "input_shape = sample_image.shape\n",
    "\n",
    "print(\"Input Shape:\", input_shape)\n"
   ]
  },
  {
   "cell_type": "code",
   "execution_count": 2,
   "id": "9ce92e2c",
   "metadata": {},
   "outputs": [],
   "source": [
    "import tensorflow as tf\n",
    "from tensorflow.keras.models import Model\n",
    "from tensorflow.keras.layers import Input, Conv2D, MaxPooling2D, UpSampling2D, Concatenate\n",
    "\n",
    "def unet(input_shape):\n",
    "    # Input layer\n",
    "    inputs = Input(input_shape)\n",
    "\n",
    "    # Encoder (downsampling) path\n",
    "    conv1 = Conv2D(64, 3, activation='relu', padding='same')(inputs)\n",
    "    conv1 = Conv2D(64, 3, activation='relu', padding='same')(conv1)\n",
    "    pool1 = MaxPooling2D(pool_size=(2, 2))(conv1)\n",
    "\n",
    "    conv2 = Conv2D(128, 3, activation='relu', padding='same')(pool1)\n",
    "    conv2 = Conv2D(128, 3, activation='relu', padding='same')(conv2)\n",
    "    pool2 = MaxPooling2D(pool_size=(2, 2))(conv2)\n",
    "\n",
    "    conv3 = Conv2D(256, 3, activation='relu', padding='same')(pool2)\n",
    "    conv3 = Conv2D(256, 3, activation='relu', padding='same')(conv3)\n",
    "    pool3 = MaxPooling2D(pool_size=(2, 2))(conv3)\n",
    "\n",
    "    conv4 = Conv2D(512, 3, activation='relu', padding='same')(pool3)\n",
    "    conv4 = Conv2D(512, 3, activation='relu', padding='same')(conv4)\n",
    "    pool4 = MaxPooling2D(pool_size=(2, 2))(conv4)\n",
    "\n",
    "    # Bottom (bottleneck) layer\n",
    "    conv5 = Conv2D(1024, 3, activation='relu', padding='same')(pool4)\n",
    "    conv5 = Conv2D(1024, 3, activation='relu', padding='same')(conv5)\n",
    "\n",
    "    # Decoder (upsampling) path\n",
    "    up6 = Concatenate()([UpSampling2D(size=(2, 2))(conv5), conv4])\n",
    "    conv6 = Conv2D(512, 3, activation='relu', padding='same')(up6)\n",
    "    conv6 = Conv2D(512, 3, activation='relu', padding='same')(conv6)\n",
    "\n",
    "    up7 = Concatenate()([UpSampling2D(size=(2, 2))(conv6), conv3])\n",
    "    conv7 = Conv2D(256, 3, activation='relu', padding='same')(up7)\n",
    "    conv7 = Conv2D(256, 3, activation='relu', padding='same')(conv7)\n",
    "\n",
    "    up8 = Concatenate()([UpSampling2D(size=(2, 2))(conv7), conv2])\n",
    "    conv8 = Conv2D(128, 3, activation='relu', padding='same')(up8)\n",
    "    conv8 = Conv2D(128, 3, activation='relu', padding='same')(conv8)\n",
    "\n",
    "    up9 = Concatenate()([UpSampling2D(size=(2, 2))(conv8), conv1])\n",
    "    conv9 = Conv2D(64, 3, activation='relu', padding='same')(up9)\n",
    "    conv9 = Conv2D(64, 3, activation='relu', padding='same')(conv9)\n",
    "\n",
    "    # Output layer\n",
    "    outputs = Conv2D(1, 1, activation='sigmoid')(conv9)\n",
    "\n",
    "    # Create the model\n",
    "    model = Model(inputs=inputs, outputs=outputs)\n",
    "    \n",
    "    return model\n"
   ]
  },
  {
   "cell_type": "code",
   "execution_count": 3,
   "id": "da4a0257",
   "metadata": {},
   "outputs": [
    {
     "data": {
      "text/plain": [
       "<keras.engine.functional.Functional at 0x265a241a8e0>"
      ]
     },
     "execution_count": 3,
     "metadata": {},
     "output_type": "execute_result"
    }
   ],
   "source": [
    "unet(input_shape)"
   ]
  },
  {
   "cell_type": "code",
   "execution_count": 1,
   "id": "50cafb46",
   "metadata": {},
   "outputs": [
    {
     "name": "stdout",
     "output_type": "stream",
     "text": [
      "Found 2755 images belonging to 3 classes.\n",
      "Found 0 images belonging to 3 classes.\n",
      "Found 2755 images belonging to 3 classes.\n"
     ]
    }
   ],
   "source": [
    "from tensorflow.keras.preprocessing.image import ImageDataGenerator\n",
    "\n",
    "# Set the path to the main directory containing the class folders\n",
    "main_directory = r\"C:\\Users\\lenovo\\OneDrive\\Documents\\Lungs\"\n",
    "\n",
    "# Define the image data generators with data augmentation for training and validation\n",
    "train_data_generator = ImageDataGenerator(rescale=1./255, rotation_range=10, zoom_range=0.1, horizontal_flip=True)\n",
    "val_data_generator = ImageDataGenerator(rescale=1./255)\n",
    "\n",
    "# Set the batch size and image dimensions\n",
    "batch_size = 32\n",
    "image_size = (256, 256)\n",
    "\n",
    "# Load and augment the training data\n",
    "train_data = train_data_generator.flow_from_directory(\n",
    "    directory=main_directory,\n",
    "    target_size=image_size,\n",
    "    batch_size=batch_size,\n",
    "    class_mode='categorical',\n",
    "    subset='training',\n",
    "    seed=42\n",
    ")\n",
    "\n",
    "# Load the validation data\n",
    "val_data = val_data_generator.flow_from_directory(\n",
    "    directory=main_directory,\n",
    "    target_size=image_size,\n",
    "    batch_size=batch_size,\n",
    "    class_mode='categorical',\n",
    "    subset='validation',\n",
    "    seed=42\n",
    ")\n",
    "\n",
    "# Load the testing data (without data augmentation)\n",
    "test_data = val_data_generator.flow_from_directory(\n",
    "    directory=main_directory,\n",
    "    target_size=image_size,\n",
    "    batch_size=batch_size,\n",
    "    class_mode='categorical',\n",
    "    shuffle=False,\n",
    "    seed=42\n",
    ")\n"
   ]
  },
  {
   "cell_type": "code",
   "execution_count": 1,
   "id": "4516b003",
   "metadata": {},
   "outputs": [
    {
     "name": "stdout",
     "output_type": "stream",
     "text": [
      "Found 2515 images belonging to 3 classes.\n",
      "Found 0 images belonging to 3 classes.\n",
      "Found 2515 images belonging to 3 classes.\n"
     ]
    }
   ],
   "source": [
    "from tensorflow.keras.preprocessing.image import ImageDataGenerator\n",
    "\n",
    "# Set the path to the main directory containing the class folders\n",
    "main_directory = r\"C:\\Users\\lenovo\\OneDrive\\Documents\\Lungs\"\n",
    "\n",
    "# Define the image data generator\n",
    "data_generator = ImageDataGenerator(rescale=1./255)\n",
    "\n",
    "# Set the batch size and image dimensions\n",
    "batch_size = 32\n",
    "image_size = (256, 256)\n",
    "\n",
    "# Load the training data\n",
    "train_data = data_generator.flow_from_directory(\n",
    "    directory=main_directory,\n",
    "    target_size=image_size,\n",
    "    batch_size=batch_size,\n",
    "    class_mode='categorical',\n",
    "    classes=['Malignant cases', 'Benign cases', 'Normal cases'],\n",
    "    subset='training',\n",
    "    seed=42\n",
    ")\n",
    "\n",
    "# Load the validation data\n",
    "val_data = data_generator.flow_from_directory(\n",
    "    directory=main_directory,\n",
    "    target_size=image_size,\n",
    "    batch_size=batch_size,\n",
    "    class_mode='categorical',\n",
    "    classes=['Malignant cases', 'Benign cases', 'Normal cases'],\n",
    "    subset='validation',\n",
    "    seed=42\n",
    ")\n",
    "\n",
    "# Load the testing data\n",
    "test_data = data_generator.flow_from_directory(\n",
    "    directory=main_directory,\n",
    "    target_size=image_size,\n",
    "    batch_size=batch_size,\n",
    "    class_mode='categorical',\n",
    "    classes=['Malignant cases', 'Benign cases', 'Normal cases'],\n",
    "    seed=42\n",
    ")\n"
   ]
  },
  {
   "cell_type": "code",
   "execution_count": 2,
   "id": "e37ac6bc",
   "metadata": {},
   "outputs": [],
   "source": [
    "from tensorflow.keras.models import Sequential\n",
    "from tensorflow.keras.layers import Conv2D, MaxPooling2D, Flatten, Dense, Dropout\n",
    "\n",
    "model = Sequential()\n",
    "model.add(Conv2D(64, (3, 3), activation='relu', input_shape=(256, 256, 3)))\n",
    "model.add(MaxPooling2D((2, 2)))\n",
    "model.add(Conv2D(128, (3, 3), activation='relu'))\n",
    "model.add(MaxPooling2D((2, 2)))\n",
    "model.add(Conv2D(256, (3, 3), activation='relu'))\n",
    "model.add(MaxPooling2D((2, 2)))\n",
    "model.add(Flatten())\n",
    "model.add(Dense(256, activation='relu'))\n",
    "model.add(Dropout(0.5))\n",
    "model.add(Dense(3, activation='softmax'))"
   ]
  },
  {
   "cell_type": "code",
   "execution_count": 2,
   "id": "9f68014e",
   "metadata": {},
   "outputs": [
    {
     "name": "stdout",
     "output_type": "stream",
     "text": [
      "Found 2755 images belonging to 3 classes.\n"
     ]
    }
   ],
   "source": [
    "from sklearn.model_selection import train_test_split\n",
    "from tensorflow.keras.preprocessing.image import ImageDataGenerator\n",
    "\n",
    "# Set the path to the main directory containing the class folders\n",
    "main_directory = r\"C:\\Users\\lenovo\\OneDrive\\Documents\\Lungs\"\n",
    "\n",
    "# Define the image data generator\n",
    "data_generator = ImageDataGenerator(rescale=1./255)\n",
    "\n",
    "# Set the batch size and image dimensions\n",
    "batch_size = 32\n",
    "image_size = (256, 256)\n",
    "\n",
    "# Load the data\n",
    "data = data_generator.flow_from_directory(\n",
    "    directory=main_directory,\n",
    "    target_size=image_size,\n",
    "    batch_size=batch_size,\n",
    "    class_mode='categorical',\n",
    "    seed=42\n",
    ")\n",
    "\n",
    "# Split the data into training and testing sets\n",
    "train_images, test_images, train_labels, test_labels = train_test_split(\n",
    "    data[0][0], data[0][1], test_size=0.2, random_state=42\n",
    ")\n",
    "\n",
    "# Create the data generators\n",
    "train_data = data_generator.flow(train_images, train_labels, batch_size=batch_size, shuffle=True)\n",
    "test_data = data_generator.flow(test_images, test_labels, batch_size=batch_size, shuffle=False)\n"
   ]
  },
  {
   "cell_type": "code",
   "execution_count": 3,
   "id": "4afc7751",
   "metadata": {},
   "outputs": [
    {
     "data": {
      "text/plain": [
       "<keras.preprocessing.image.NumpyArrayIterator at 0x1e87eae25b0>"
      ]
     },
     "execution_count": 3,
     "metadata": {},
     "output_type": "execute_result"
    }
   ],
   "source": [
    "train_data"
   ]
  },
  {
   "cell_type": "code",
   "execution_count": 4,
   "id": "f6539464",
   "metadata": {},
   "outputs": [
    {
     "data": {
      "text/plain": [
       "<keras.preprocessing.image.NumpyArrayIterator at 0x1e87ee92730>"
      ]
     },
     "execution_count": 4,
     "metadata": {},
     "output_type": "execute_result"
    }
   ],
   "source": [
    "test_data"
   ]
  },
  {
   "cell_type": "code",
   "execution_count": 5,
   "id": "2bddbef5",
   "metadata": {},
   "outputs": [
    {
     "name": "stdout",
     "output_type": "stream",
     "text": [
      "Epoch 1/10\n",
      "1/1 [==============================] - 5s 5s/step - loss: 1.0985 - accuracy: 0.6400 - val_loss: 0.9542 - val_accuracy: 0.8571\n",
      "Epoch 2/10\n",
      "1/1 [==============================] - 3s 3s/step - loss: 1.0094 - accuracy: 0.6000 - val_loss: 0.4428 - val_accuracy: 0.8571\n",
      "Epoch 3/10\n",
      "1/1 [==============================] - 4s 4s/step - loss: 0.9332 - accuracy: 0.6000 - val_loss: 0.7134 - val_accuracy: 0.8571\n",
      "Epoch 4/10\n",
      "1/1 [==============================] - 4s 4s/step - loss: 0.8275 - accuracy: 0.6000 - val_loss: 0.7859 - val_accuracy: 0.1429\n",
      "Epoch 5/10\n",
      "1/1 [==============================] - 4s 4s/step - loss: 0.8491 - accuracy: 0.3600 - val_loss: 0.7209 - val_accuracy: 0.8571\n",
      "Epoch 6/10\n",
      "1/1 [==============================] - 4s 4s/step - loss: 0.8260 - accuracy: 0.6000 - val_loss: 0.6061 - val_accuracy: 0.8571\n",
      "Epoch 7/10\n",
      "1/1 [==============================] - 4s 4s/step - loss: 0.8049 - accuracy: 0.6000 - val_loss: 0.5060 - val_accuracy: 0.8571\n",
      "Epoch 8/10\n",
      "1/1 [==============================] - 4s 4s/step - loss: 0.8204 - accuracy: 0.6000 - val_loss: 0.5090 - val_accuracy: 0.8571\n",
      "Epoch 9/10\n",
      "1/1 [==============================] - 4s 4s/step - loss: 0.8177 - accuracy: 0.6000 - val_loss: 0.5675 - val_accuracy: 0.8571\n",
      "Epoch 10/10\n",
      "1/1 [==============================] - 4s 4s/step - loss: 0.8031 - accuracy: 0.6000 - val_loss: 0.6318 - val_accuracy: 0.8571\n",
      "1/1 [==============================] - 0s 278ms/step - loss: 0.6318 - accuracy: 0.8571\n"
     ]
    }
   ],
   "source": [
    "from tensorflow.keras.models import Sequential\n",
    "from tensorflow.keras.layers import Conv2D, MaxPooling2D, Flatten, Dense\n",
    "\n",
    "# Define the model architecture\n",
    "model = Sequential()\n",
    "model.add(Conv2D(64, (3, 3), activation='relu', input_shape=(256, 256, 3)))\n",
    "model.add(MaxPooling2D((2, 2)))\n",
    "model.add(Conv2D(128, (3, 3), activation='relu'))\n",
    "model.add(MaxPooling2D((2, 2)))\n",
    "model.add(Conv2D(256, (3, 3), activation='relu'))\n",
    "model.add(MaxPooling2D((2, 2)))\n",
    "model.add(Flatten())\n",
    "model.add(Dense(256, activation='relu'))\n",
    "model.add(Dense(128, activation='relu'))\n",
    "model.add(Dense(3, activation='softmax'))\n",
    "\n",
    "# Compile the model\n",
    "model.compile(optimizer='adam', loss='categorical_crossentropy', metrics=['accuracy'])\n",
    "\n",
    "# Train the model\n",
    "history = model.fit(train_data, epochs=10, validation_data=test_data)\n",
    "\n",
    "# Evaluate the model\n",
    "loss, accuracy = model.evaluate(test_data)\n"
   ]
  },
  {
   "cell_type": "code",
   "execution_count": 6,
   "id": "2b00d8b2",
   "metadata": {},
   "outputs": [
    {
     "data": {
      "text/plain": [
       "(0.6317917704582214, 0.8571428656578064)"
      ]
     },
     "execution_count": 6,
     "metadata": {},
     "output_type": "execute_result"
    }
   ],
   "source": [
    "loss,accuracy"
   ]
  },
  {
   "cell_type": "code",
   "execution_count": 7,
   "id": "99daf3f0",
   "metadata": {},
   "outputs": [
    {
     "name": "stdout",
     "output_type": "stream",
     "text": [
      "1/1 [==============================] - 0s 209ms/step - loss: 0.6318 - accuracy: 0.8571\n",
      "Test Loss: 0.6317917704582214\n",
      "Test Accuracy: 0.8571428656578064\n"
     ]
    }
   ],
   "source": [
    "loss, accuracy = model.evaluate(test_data)\n",
    "print('Test Loss:', loss)\n",
    "print('Test Accuracy:', accuracy)"
   ]
  },
  {
   "cell_type": "code",
   "execution_count": 8,
   "id": "c0163a95",
   "metadata": {},
   "outputs": [
    {
     "name": "stdout",
     "output_type": "stream",
     "text": [
      "1/1 [==============================] - 0s 284ms/step\n"
     ]
    }
   ],
   "source": [
    "predictions = model.predict(test_data)"
   ]
  },
  {
   "cell_type": "code",
   "execution_count": 11,
   "id": "021506a2",
   "metadata": {},
   "outputs": [],
   "source": [
    "import tensorflow as tf\n",
    "\n",
    "model.save('lung_nodule_model.h5')\n",
    "\n",
    "# Load the model\n",
    "loaded_model = tf.keras.models.load_model('lung_nodule_model.h5')"
   ]
  },
  {
   "cell_type": "code",
   "execution_count": 20,
   "id": "b638e049",
   "metadata": {},
   "outputs": [],
   "source": [
    "from tensorflow.keras.preprocessing.image import load_img, img_to_array\n",
    "\n",
    "# Load the input image\n",
    "image = load_img(r\"C:\\Users\\lenovo\\OneDrive\\Documents\\Lungs\\Bengin cases\\Bengin case (41).jpg\", target_size=(256, 256))\n",
    "\n",
    "# Convert the image to a numpy array\n",
    "image_array = img_to_array(image)\n",
    "image_array = image_array / 255.0  # Normalize the image\n",
    "\n",
    "# Expand dimensions to match the model input shape\n",
    "image_array = image_array.reshape((1, 256, 256, 3))"
   ]
  },
  {
   "cell_type": "code",
   "execution_count": 21,
   "id": "042e4198",
   "metadata": {},
   "outputs": [
    {
     "name": "stdout",
     "output_type": "stream",
     "text": [
      "1/1 [==============================] - 0s 77ms/step\n",
      "Predicted Class: Benign cases\n",
      "Confidence: 0.9996604\n"
     ]
    }
   ],
   "source": [
    "prediction = model.predict(image_array)\n",
    "\n",
    "# Get the predicted class label\n",
    "class_index = prediction.argmax()\n",
    "class_label = class_names[class_index]\n",
    "confidence = prediction[0][class_index]\n",
    "\n",
    "print('Predicted Class:', class_label)\n",
    "print('Confidence:', confidence)"
   ]
  },
  {
   "cell_type": "code",
   "execution_count": 22,
   "id": "f511c69a",
   "metadata": {},
   "outputs": [
    {
     "name": "stdout",
     "output_type": "stream",
     "text": [
      "Predicted Class: Benign cases\n",
      "Confidence: 0.9996604\n"
     ]
    }
   ],
   "source": [
    "# Define the class names in the same order as your training data\n",
    "class_names = ['Malignant cases', 'Benign cases', 'Normal cases']\n",
    "\n",
    "# Get the predicted class label\n",
    "class_index = prediction.argmax()\n",
    "class_label = class_names[class_index]\n",
    "confidence = prediction[0][class_index]\n",
    "\n",
    "print('Predicted Class:', class_label)\n",
    "print('Confidence:', confidence)"
   ]
  },
  {
   "cell_type": "code",
   "execution_count": 2,
   "id": "b3039ede",
   "metadata": {},
   "outputs": [
    {
     "name": "stdout",
     "output_type": "stream",
     "text": [
      "Enter time in 12-hour format (hh:mm:ssAM/PM): 12:45:56PM\n",
      "Time in 24-hour format: 12:45:56\n"
     ]
    }
   ],
   "source": [
    "def convert_to_24hr(time):\n",
    "    # Separate the time components\n",
    "    hour, minute, second = map(int, time[:-2].split(':'))\n",
    "    meridian = time[-2:]\n",
    "\n",
    "    # Convert to 24-hour format\n",
    "    if meridian == 'PM' and hour != 12:\n",
    "        hour += 12\n",
    "    elif meridian == 'AM' and hour == 12:\n",
    "        hour = 0\n",
    "\n",
    "    # Format the time as a string in 24-hour format\n",
    "    time_24hr = \"{:02d}:{:02d}:{:02d}\".format(hour, minute, second)\n",
    "\n",
    "    # Return the converted time\n",
    "    return time_24hr\n",
    "\n",
    "# Take input from the user\n",
    "time_12hr = input(\"Enter time in 12-hour format (hh:mm:ssAM/PM): \")\n",
    "\n",
    "# Call the function to convert the time to 24-hour format\n",
    "time_24hr = convert_to_24hr(time_12hr)\n",
    "\n",
    "# Print the converted time\n",
    "print(\"Time in 24-hour format:\", time_24hr)"
   ]
  },
  {
   "cell_type": "code",
   "execution_count": null,
   "id": "29ca04c7",
   "metadata": {},
   "outputs": [],
   "source": []
  }
 ],
 "metadata": {
  "kernelspec": {
   "display_name": "Python 3 (ipykernel)",
   "language": "python",
   "name": "python3"
  },
  "language_info": {
   "codemirror_mode": {
    "name": "ipython",
    "version": 3
   },
   "file_extension": ".py",
   "mimetype": "text/x-python",
   "name": "python",
   "nbconvert_exporter": "python",
   "pygments_lexer": "ipython3",
   "version": "3.9.12"
  }
 },
 "nbformat": 4,
 "nbformat_minor": 5
}
